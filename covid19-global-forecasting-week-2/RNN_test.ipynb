{
 "nbformat": 4,
 "nbformat_minor": 2,
 "metadata": {
  "language_info": {
   "name": "python",
   "codemirror_mode": {
    "name": "ipython",
    "version": 3
   },
   "version": "3.7.6-final"
  },
  "orig_nbformat": 2,
  "file_extension": ".py",
  "mimetype": "text/x-python",
  "name": "python",
  "npconvert_exporter": "python",
  "pygments_lexer": "ipython3",
  "version": 3,
  "kernelspec": {
   "name": "python37664bitkerasgpuconda5063b82eac224514952264ee20e6be1d",
   "display_name": "Python 3.7.6 64-bit ('keras-gpu': conda)"
  }
 },
 "cells": [
  {
   "cell_type": "code",
   "execution_count": 58,
   "metadata": {
    "tags": [
     "outputPrepend",
     "outputPrepend",
     "outputPrepend",
     "outputPrepend",
     "outputPrepend",
     "outputPrepend",
     "outputPrepend",
     "outputPrepend",
     "outputPrepend",
     "outputPrepend",
     "outputPrepend",
     "outputPrepend",
     "outputPrepend",
     "outputPrepend",
     "outputPrepend",
     "outputPrepend",
     "outputPrepend",
     "outputPrepend",
     "outputPrepend",
     "outputPrepend",
     "outputPrepend",
     "outputPrepend",
     "outputPrepend",
     "outputPrepend",
     "outputPrepend",
     "outputPrepend",
     "outputPrepend",
     "outputPrepend",
     "outputPrepend",
     "outputPrepend",
     "outputPrepend",
     "outputPrepend",
     "outputPrepend",
     "outputPrepend",
     "outputPrepend",
     "outputPrepend",
     "outputPrepend",
     "outputPrepend",
     "outputPrepend",
     "outputPrepend",
     "outputPrepend",
     "outputPrepend",
     "outputPrepend",
     "outputPrepend",
     "outputPrepend",
     "outputPrepend",
     "outputPrepend",
     "outputPrepend",
     "outputPrepend",
     "outputPrepend",
     "outputPrepend",
     "outputPrepend",
     "outputPrepend",
     "outputPrepend",
     "outputPrepend",
     "outputPrepend",
     "outputPrepend",
     "outputPrepend"
    ]
   },
   "outputs": [
    {
     "output_type": "stream",
     "name": "stderr",
     "text": "100%|██████████| 173/173 [02:27<00:00,  1.17it/s]\n"
    }
   ],
   "source": [
    "import numpy as np \n",
    "import pandas as pd \n",
    "# import geopandas as gpd\n",
    "from tqdm import tqdm\n",
    "# from tensorflow.keras import models\n",
    "\n",
    "data = pd.read_csv(\"train.csv\")\n",
    "data_size = len(data['Id'])\n",
    "data[\"Country_Region\"] = [country_name.replace(\"'\",\"\") for country_name in data[\"Country_Region\"]]\n",
    "data = data.query(\"Date>'2020-01-29' and Date<='2020-03-11'\")\n",
    "trend_df = pd.DataFrame(columns={\"infection_trend\",\"fatality_trend\",\"expected_cases\",\"expected_fatalities\"})\n",
    "\n",
    "# for country in data.Country_Region.unique():\n",
    "#     print(country)\n",
    "\n",
    "    # count = 0\n",
    "    # for province in data.query(\"Country_Region=='\"+country+\"'\").Province_State:\n",
    "    #     count+=1\n",
    "\n",
    "    # print(count)\n",
    "\n",
    "with tqdm(total=len(data.Country_Region.unique())) as pbar:\n",
    "    for country in data.Country_Region.unique():\n",
    "        for province in data.query(\"Country_Region=='\"+country+\"'\").Province_State:\n",
    "            province_df = data.query(\"Country_Region=='\"+country+\"' and Province_State=='\"+str(province)+\"'\")\n",
    "            for i in range(0,len(province_df)-7,7):\n",
    "\n",
    "                infection_trend = [float(x) for x in province_df[i:i+6].ConfirmedCases.values]\n",
    "                fatality_trend = [float(x) for x in province_df[i:i+6].Fatalities.values]\n",
    "                expected_cases = float(province_df.iloc[i+7].ConfirmedCases)\n",
    "                expected_fatalities = float(province_df.iloc[i+7].Fatalities)\n",
    "                                            \n",
    "                trend_df = trend_df.append({\"infection_trend\":infection_trend,\n",
    "                                 \"fatality_trend\":fatality_trend,\n",
    "                                 \"expected_cases\":expected_cases,\n",
    "                                 \"expected_fatalities\":expected_fatalities},ignore_index=True)\n",
    "        pbar.update(1)"
   ]
  },
  {
   "cell_type": "code",
   "execution_count": 61,
   "metadata": {},
   "outputs": [
    {
     "output_type": "stream",
     "name": "stdout",
     "text": "infection_trend  expected_cases  expected_fatalities  \\\n0      [0.0, 0.0, 0.0, 0.0, 0.0, 0.0]             0.0                  0.0   \n1      [0.0, 0.0, 0.0, 0.0, 0.0, 0.0]             0.0                  0.0   \n2      [0.0, 0.0, 0.0, 0.0, 0.0, 0.0]             0.0                  0.0   \n3      [0.0, 0.0, 0.0, 0.0, 0.0, 0.0]             0.0                  0.0   \n4      [0.0, 0.0, 0.0, 0.0, 0.0, 0.0]             0.0                  0.0   \n...                               ...             ...                  ...   \n26245  [0.0, 0.0, 0.0, 0.0, 0.0, 0.0]             0.0                  0.0   \n26246  [0.0, 0.0, 0.0, 0.0, 0.0, 0.0]             0.0                  0.0   \n26247  [0.0, 0.0, 0.0, 0.0, 0.0, 0.0]             0.0                  0.0   \n26248  [0.0, 0.0, 0.0, 0.0, 0.0, 0.0]             0.0                  0.0   \n26249  [0.0, 0.0, 0.0, 0.0, 0.0, 0.0]             0.0                  0.0   \n\n                       fatality_trend  \\\n0      [0.0, 0.0, 0.0, 0.0, 0.0, 0.0]   \n1      [0.0, 0.0, 0.0, 0.0, 0.0, 0.0]   \n2      [0.0, 0.0, 0.0, 0.0, 0.0, 0.0]   \n3      [0.0, 0.0, 0.0, 0.0, 0.0, 0.0]   \n4      [0.0, 0.0, 0.0, 0.0, 0.0, 0.0]   \n...                               ...   \n26245  [0.0, 0.0, 0.0, 0.0, 0.0, 0.0]   \n26246  [0.0, 0.0, 0.0, 0.0, 0.0, 0.0]   \n26247  [0.0, 0.0, 0.0, 0.0, 0.0, 0.0]   \n26248  [0.0, 0.0, 0.0, 0.0, 0.0, 0.0]   \n26249  [0.0, 0.0, 0.0, 0.0, 0.0, 0.0]   \n\n                                                   input  \n0      [[0.0, 0.0, 0.0, 0.0, 0.0, 0.0], [0.0, 0.0, 0....  \n1      [[0.0, 0.0, 0.0, 0.0, 0.0, 0.0], [0.0, 0.0, 0....  \n2      [[0.0, 0.0, 0.0, 0.0, 0.0, 0.0], [0.0, 0.0, 0....  \n3      [[0.0, 0.0, 0.0, 0.0, 0.0, 0.0], [0.0, 0.0, 0....  \n4      [[0.0, 0.0, 0.0, 0.0, 0.0, 0.0], [0.0, 0.0, 0....  \n...                                                  ...  \n26245  [[0.0, 0.0, 0.0, 0.0, 0.0, 0.0], [0.0, 0.0, 0....  \n26246  [[0.0, 0.0, 0.0, 0.0, 0.0, 0.0], [0.0, 0.0, 0....  \n26247  [[0.0, 0.0, 0.0, 0.0, 0.0, 0.0], [0.0, 0.0, 0....  \n26248  [[0.0, 0.0, 0.0, 0.0, 0.0, 0.0], [0.0, 0.0, 0....  \n26249  [[0.0, 0.0, 0.0, 0.0, 0.0, 0.0], [0.0, 0.0, 0....  \n\n[26250 rows x 5 columns]\n"
    }
   ],
   "source": [
    "# print(trend_df)\n",
    "trend_df[\"input\"] = [np.asarray([np.array(trends[\"infection_trend\"]),np.asarray(trends[\"fatality_trend\"])]) for idx,trends in trend_df.iterrows()]\n",
    "print(trend_df)"
   ]
  },
  {
   "cell_type": "code",
   "execution_count": 76,
   "metadata": {},
   "outputs": [
    {
     "output_type": "execute_result",
     "data": {
      "text/plain": "                                  infection_trend  expected_cases  \\\n15359              [0.0, 0.0, 0.0, 0.0, 0.0, 0.0]             0.0   \n6160   [278.0, 352.0, 422.0, 493.0, 566.0, 675.0]           851.0   \n12766              [0.0, 0.0, 0.0, 0.0, 0.0, 0.0]             0.0   \n18928              [0.0, 0.0, 0.0, 0.0, 0.0, 0.0]             0.0   \n11944              [0.0, 0.0, 0.0, 0.0, 0.0, 0.0]             0.0   \n\n       expected_fatalities                  fatality_trend  \\\n15359                  0.0  [0.0, 0.0, 0.0, 0.0, 0.0, 0.0]   \n6160                   2.0  [2.0, 2.0, 2.0, 2.0, 2.0, 2.0]   \n12766                  0.0  [0.0, 0.0, 0.0, 0.0, 0.0, 0.0]   \n18928                  0.0  [0.0, 0.0, 0.0, 0.0, 0.0, 0.0]   \n11944                  0.0  [0.0, 0.0, 0.0, 0.0, 0.0, 0.0]   \n\n                                                   input  \n15359  [[0.0, 0.0, 0.0, 0.0, 0.0, 0.0], [0.0, 0.0, 0....  \n6160   [[278.0, 352.0, 422.0, 493.0, 566.0, 675.0], [...  \n12766  [[0.0, 0.0, 0.0, 0.0, 0.0, 0.0], [0.0, 0.0, 0....  \n18928  [[0.0, 0.0, 0.0, 0.0, 0.0, 0.0], [0.0, 0.0, 0....  \n11944  [[0.0, 0.0, 0.0, 0.0, 0.0, 0.0], [0.0, 0.0, 0....  ",
      "text/html": "<div>\n<style scoped>\n    .dataframe tbody tr th:only-of-type {\n        vertical-align: middle;\n    }\n\n    .dataframe tbody tr th {\n        vertical-align: top;\n    }\n\n    .dataframe thead th {\n        text-align: right;\n    }\n</style>\n<table border=\"1\" class=\"dataframe\">\n  <thead>\n    <tr style=\"text-align: right;\">\n      <th></th>\n      <th>infection_trend</th>\n      <th>expected_cases</th>\n      <th>expected_fatalities</th>\n      <th>fatality_trend</th>\n      <th>input</th>\n    </tr>\n  </thead>\n  <tbody>\n    <tr>\n      <th>15359</th>\n      <td>[0.0, 0.0, 0.0, 0.0, 0.0, 0.0]</td>\n      <td>0.0</td>\n      <td>0.0</td>\n      <td>[0.0, 0.0, 0.0, 0.0, 0.0, 0.0]</td>\n      <td>[[0.0, 0.0, 0.0, 0.0, 0.0, 0.0], [0.0, 0.0, 0....</td>\n    </tr>\n    <tr>\n      <th>6160</th>\n      <td>[278.0, 352.0, 422.0, 493.0, 566.0, 675.0]</td>\n      <td>851.0</td>\n      <td>2.0</td>\n      <td>[2.0, 2.0, 2.0, 2.0, 2.0, 2.0]</td>\n      <td>[[278.0, 352.0, 422.0, 493.0, 566.0, 675.0], [...</td>\n    </tr>\n    <tr>\n      <th>12766</th>\n      <td>[0.0, 0.0, 0.0, 0.0, 0.0, 0.0]</td>\n      <td>0.0</td>\n      <td>0.0</td>\n      <td>[0.0, 0.0, 0.0, 0.0, 0.0, 0.0]</td>\n      <td>[[0.0, 0.0, 0.0, 0.0, 0.0, 0.0], [0.0, 0.0, 0....</td>\n    </tr>\n    <tr>\n      <th>18928</th>\n      <td>[0.0, 0.0, 0.0, 0.0, 0.0, 0.0]</td>\n      <td>0.0</td>\n      <td>0.0</td>\n      <td>[0.0, 0.0, 0.0, 0.0, 0.0, 0.0]</td>\n      <td>[[0.0, 0.0, 0.0, 0.0, 0.0, 0.0], [0.0, 0.0, 0....</td>\n    </tr>\n    <tr>\n      <th>11944</th>\n      <td>[0.0, 0.0, 0.0, 0.0, 0.0, 0.0]</td>\n      <td>0.0</td>\n      <td>0.0</td>\n      <td>[0.0, 0.0, 0.0, 0.0, 0.0, 0.0]</td>\n      <td>[[0.0, 0.0, 0.0, 0.0, 0.0, 0.0], [0.0, 0.0, 0....</td>\n    </tr>\n  </tbody>\n</table>\n</div>"
     },
     "metadata": {},
     "execution_count": 76
    }
   ],
   "source": [
    "from sklearn.utils import shuffle\n",
    "trend_df = shuffle(trend_df)\n",
    "trend_df.head()"
   ]
  },
  {
   "cell_type": "code",
   "execution_count": null,
   "metadata": {},
   "outputs": [],
   "source": []
  }
 ]
}